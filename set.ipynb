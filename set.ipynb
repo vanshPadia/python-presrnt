{
 "cells": [
  {
   "cell_type": "code",
   "execution_count": 1,
   "id": "f5534ab3-1ca5-4b68-bf30-b9a82dd46642",
   "metadata": {},
   "outputs": [
    {
     "name": "stdin",
     "output_type": "stream",
     "text": [
      "How many items do you want to add to the set?  4\n",
      "Enter item 1:  1\n",
      "Enter item 2:  2\n",
      "Enter item 3:  2\n",
      "Enter item 4:  3\n"
     ]
    },
    {
     "name": "stdout",
     "output_type": "stream",
     "text": [
      "\n",
      "Options:\n",
      "1. Add item to set\n",
      "2. Remove item from set\n",
      "3. Print set\n",
      "4. Check if item exists in set\n",
      "5. Clear set\n",
      "6. Exit\n"
     ]
    },
    {
     "name": "stdin",
     "output_type": "stream",
     "text": [
      "Enter your choice (1-6):  3\n"
     ]
    },
    {
     "name": "stdout",
     "output_type": "stream",
     "text": [
      "Current set: {'1', '3', '2'}\n",
      "\n",
      "Options:\n",
      "1. Add item to set\n",
      "2. Remove item from set\n",
      "3. Print set\n",
      "4. Check if item exists in set\n",
      "5. Clear set\n",
      "6. Exit\n"
     ]
    },
    {
     "name": "stdin",
     "output_type": "stream",
     "text": [
      "Enter your choice (1-6):  4\n",
      "Enter item to check:  3\n"
     ]
    },
    {
     "name": "stdout",
     "output_type": "stream",
     "text": [
      "'3' exists in the set.\n",
      "\n",
      "Options:\n",
      "1. Add item to set\n",
      "2. Remove item from set\n",
      "3. Print set\n",
      "4. Check if item exists in set\n",
      "5. Clear set\n",
      "6. Exit\n"
     ]
    },
    {
     "name": "stdin",
     "output_type": "stream",
     "text": [
      "Enter your choice (1-6):  4\n",
      "Enter item to check:  4\n"
     ]
    },
    {
     "name": "stdout",
     "output_type": "stream",
     "text": [
      "'4' does not exist in the set.\n",
      "\n",
      "Options:\n",
      "1. Add item to set\n",
      "2. Remove item from set\n",
      "3. Print set\n",
      "4. Check if item exists in set\n",
      "5. Clear set\n",
      "6. Exit\n"
     ]
    },
    {
     "name": "stdin",
     "output_type": "stream",
     "text": [
      "Enter your choice (1-6):  5\n"
     ]
    },
    {
     "name": "stdout",
     "output_type": "stream",
     "text": [
      "Set cleared.\n",
      "\n",
      "Options:\n",
      "1. Add item to set\n",
      "2. Remove item from set\n",
      "3. Print set\n",
      "4. Check if item exists in set\n",
      "5. Clear set\n",
      "6. Exit\n"
     ]
    },
    {
     "name": "stdin",
     "output_type": "stream",
     "text": [
      "Enter your choice (1-6):  6\n"
     ]
    },
    {
     "name": "stdout",
     "output_type": "stream",
     "text": [
      "Exiting...\n"
     ]
    }
   ],
   "source": [
    "def interact_with_set():\n",
    "    my_set = set()\n",
    "    \n",
    "    # Take input for how many items to add initially\n",
    "    try:\n",
    "        num_items = int(input(\"How many items do you want to add to the set? \"))\n",
    "    except ValueError:\n",
    "        print(\"Invalid input. Please enter a valid number.\")\n",
    "        return\n",
    "    \n",
    "    # Loop to add items\n",
    "    for i in range(num_items):\n",
    "        item = input(f\"Enter item {i + 1}: \")\n",
    "        my_set.add(item)\n",
    "    \n",
    "    while True:\n",
    "        print(\"\\nOptions:\")\n",
    "        print(\"1. Add item to set\")\n",
    "        print(\"2. Remove item from set\")\n",
    "        print(\"3. Print set\")\n",
    "        print(\"4. Check if item exists in set\")\n",
    "        print(\"5. Clear set\")\n",
    "        print(\"6. Exit\")\n",
    "        \n",
    "        choice = input(\"Enter your choice (1-6): \")\n",
    "        \n",
    "        if choice == '1':\n",
    "            item = input(\"Enter item to add: \")\n",
    "            my_set.add(item)\n",
    "            print(f\"Added '{item}' to the set.\")\n",
    "        \n",
    "        elif choice == '2':\n",
    "            item = input(\"Enter item to remove: \")\n",
    "            if item in my_set:\n",
    "                my_set.remove(item)\n",
    "                print(f\"Removed '{item}' from the set.\")\n",
    "            else:\n",
    "                print(f\"'{item}' not found in the set.\")\n",
    "        \n",
    "        elif choice == '3':\n",
    "            print(\"Current set:\", my_set)\n",
    "        \n",
    "        elif choice == '4':\n",
    "            item = input(\"Enter item to check: \")\n",
    "            if item in my_set:\n",
    "                print(f\"'{item}' exists in the set.\")\n",
    "            else:\n",
    "                print(f\"'{item}' does not exist in the set.\")\n",
    "        \n",
    "        elif choice == '5':\n",
    "            my_set.clear()\n",
    "            print(\"Set cleared.\")\n",
    "        \n",
    "        elif choice == '6':\n",
    "            print(\"Exiting...\")\n",
    "            break\n",
    "        \n",
    "        else:\n",
    "            print(\"Invalid choice. Please enter a number from 1 to 6.\")\n",
    "\n",
    "# Test the function\n",
    "interact_with_set()\n"
   ]
  },
  {
   "cell_type": "code",
   "execution_count": null,
   "id": "2a4b176e-bb55-45df-94f9-667c2894b01b",
   "metadata": {},
   "outputs": [],
   "source": []
  }
 ],
 "metadata": {
  "kernelspec": {
   "display_name": "Python 3 (ipykernel)",
   "language": "python",
   "name": "python3"
  },
  "language_info": {
   "codemirror_mode": {
    "name": "ipython",
    "version": 3
   },
   "file_extension": ".py",
   "mimetype": "text/x-python",
   "name": "python",
   "nbconvert_exporter": "python",
   "pygments_lexer": "ipython3",
   "version": "3.11.7"
  }
 },
 "nbformat": 4,
 "nbformat_minor": 5
}
