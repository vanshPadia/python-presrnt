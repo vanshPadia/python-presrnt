{
 "cells": [
  {
   "cell_type": "code",
   "execution_count": 1,
   "id": "76572a15-aa19-4bb5-beaf-66d84a297215",
   "metadata": {},
   "outputs": [
    {
     "name": "stdin",
     "output_type": "stream",
     "text": [
      "How many key-value pairs do you want to add to the dictionary?  4\n",
      "Enter key 1:  name\n",
      "Enter value for name:  vansh\n",
      "Enter key 2:  age\n",
      "Enter value for age:  22\n",
      "Enter key 3:  phone no\n",
      "Enter value for phone no:  234354657687765\n",
      "Enter key 4:  poistion\n",
      "Enter value for poistion:  student\n"
     ]
    },
    {
     "name": "stdout",
     "output_type": "stream",
     "text": [
      "\n",
      "Options:\n",
      "1. Add key-value pair\n",
      "2. Remove key\n",
      "3. Print dictionary\n",
      "4. Get value by key\n",
      "5. Update value by key\n",
      "6. Clear dictionary\n",
      "7. Exit\n"
     ]
    },
    {
     "name": "stdin",
     "output_type": "stream",
     "text": [
      "Enter your choice (1-7):  2\n",
      "Enter key to remove:  poistion\n"
     ]
    },
    {
     "name": "stdout",
     "output_type": "stream",
     "text": [
      "Removed key 'poistion' from the dictionary.\n",
      "\n",
      "Options:\n",
      "1. Add key-value pair\n",
      "2. Remove key\n",
      "3. Print dictionary\n",
      "4. Get value by key\n",
      "5. Update value by key\n",
      "6. Clear dictionary\n",
      "7. Exit\n"
     ]
    },
    {
     "name": "stdin",
     "output_type": "stream",
     "text": [
      "Enter your choice (1-7):  3\n"
     ]
    },
    {
     "name": "stdout",
     "output_type": "stream",
     "text": [
      "Current dictionary: {'name': 'vansh', 'age': '22', 'phone no': '234354657687765'}\n",
      "\n",
      "Options:\n",
      "1. Add key-value pair\n",
      "2. Remove key\n",
      "3. Print dictionary\n",
      "4. Get value by key\n",
      "5. Update value by key\n",
      "6. Clear dictionary\n",
      "7. Exit\n"
     ]
    },
    {
     "name": "stdin",
     "output_type": "stream",
     "text": [
      "Enter your choice (1-7):  6\n"
     ]
    },
    {
     "name": "stdout",
     "output_type": "stream",
     "text": [
      "Dictionary cleared.\n",
      "\n",
      "Options:\n",
      "1. Add key-value pair\n",
      "2. Remove key\n",
      "3. Print dictionary\n",
      "4. Get value by key\n",
      "5. Update value by key\n",
      "6. Clear dictionary\n",
      "7. Exit\n"
     ]
    },
    {
     "name": "stdin",
     "output_type": "stream",
     "text": [
      "Enter your choice (1-7):  3\n"
     ]
    },
    {
     "name": "stdout",
     "output_type": "stream",
     "text": [
      "Current dictionary: {}\n",
      "\n",
      "Options:\n",
      "1. Add key-value pair\n",
      "2. Remove key\n",
      "3. Print dictionary\n",
      "4. Get value by key\n",
      "5. Update value by key\n",
      "6. Clear dictionary\n",
      "7. Exit\n"
     ]
    },
    {
     "name": "stdin",
     "output_type": "stream",
     "text": [
      "Enter your choice (1-7):  7\n"
     ]
    },
    {
     "name": "stdout",
     "output_type": "stream",
     "text": [
      "Exiting...\n"
     ]
    }
   ],
   "source": [
    "def interact_with_dict():\n",
    "    my_dict = {}\n",
    "    \n",
    "    # Take input for how many key-value pairs to add initially\n",
    "    try:\n",
    "        num_items = int(input(\"How many key-value pairs do you want to add to the dictionary? \"))\n",
    "    except ValueError:\n",
    "        print(\"Invalid input. Please enter a valid number.\")\n",
    "        return\n",
    "    \n",
    "    # Loop to add key-value pairs\n",
    "    for i in range(num_items):\n",
    "        key = input(f\"Enter key {i + 1}: \")\n",
    "        value = input(f\"Enter value for {key}: \")\n",
    "        my_dict[key] = value\n",
    "    \n",
    "    while True:\n",
    "        print(\"\\nOptions:\")\n",
    "        print(\"1. Add key-value pair\")\n",
    "        print(\"2. Remove key\")\n",
    "        print(\"3. Print dictionary\")\n",
    "        print(\"4. Get value by key\")\n",
    "        print(\"5. Update value by key\")\n",
    "        print(\"6. Clear dictionary\")\n",
    "        print(\"7. Exit\")\n",
    "        \n",
    "        choice = input(\"Enter your choice (1-7): \")\n",
    "        \n",
    "        if choice == '1':\n",
    "            key = input(\"Enter key: \")\n",
    "            value = input(\"Enter value: \")\n",
    "            my_dict[key] = value\n",
    "            print(f\"Added '{key}: {value}' to the dictionary.\")\n",
    "        \n",
    "        elif choice == '2':\n",
    "            key = input(\"Enter key to remove: \")\n",
    "            if key in my_dict:\n",
    "                del my_dict[key]\n",
    "                print(f\"Removed key '{key}' from the dictionary.\")\n",
    "            else:\n",
    "                print(f\"Key '{key}' not found in the dictionary.\")\n",
    "        \n",
    "        elif choice == '3':\n",
    "            print(\"Current dictionary:\", my_dict)\n",
    "        \n",
    "        elif choice == '4':\n",
    "            key = input(\"Enter key to get value: \")\n",
    "            value = my_dict.get(key, \"Key not found\")\n",
    "            print(f\"Value for '{key}': {value}\")\n",
    "        \n",
    "        elif choice == '5':\n",
    "            key = input(\"Enter key to update: \")\n",
    "            if key in my_dict:\n",
    "                value = input(f\"Enter new value for '{key}': \")\n",
    "                my_dict[key] = value\n",
    "                print(f\"Updated '{key}' to '{value}' in the dictionary.\")\n",
    "            else:\n",
    "                print(f\"Key '{key}' not found in the dictionary.\")\n",
    "        \n",
    "        elif choice == '6':\n",
    "            my_dict.clear()\n",
    "            print(\"Dictionary cleared.\")\n",
    "        \n",
    "        elif choice == '7':\n",
    "            print(\"Exiting...\")\n",
    "            break\n",
    "        \n",
    "        else:\n",
    "            print(\"Invalid choice. Please enter a number from 1 to 7.\")\n",
    "\n",
    "# Test the function\n",
    "interact_with_dict()\n"
   ]
  },
  {
   "cell_type": "code",
   "execution_count": null,
   "id": "70ac9570-4d79-43ec-a95e-e51f48a87f8a",
   "metadata": {},
   "outputs": [],
   "source": []
  }
 ],
 "metadata": {
  "kernelspec": {
   "display_name": "Python 3 (ipykernel)",
   "language": "python",
   "name": "python3"
  },
  "language_info": {
   "codemirror_mode": {
    "name": "ipython",
    "version": 3
   },
   "file_extension": ".py",
   "mimetype": "text/x-python",
   "name": "python",
   "nbconvert_exporter": "python",
   "pygments_lexer": "ipython3",
   "version": "3.11.7"
  }
 },
 "nbformat": 4,
 "nbformat_minor": 5
}
