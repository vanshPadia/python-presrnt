{
 "cells": [
  {
   "cell_type": "code",
   "execution_count": 1,
   "id": "dba76b71-c5a9-4496-931a-f31104e2109b",
   "metadata": {},
   "outputs": [
    {
     "name": "stdin",
     "output_type": "stream",
     "text": [
      "How many items do you want to add to the list?  5\n",
      "Enter item 1:  1\n",
      "Enter item 2:  2\n",
      "Enter item 3:  2\n",
      "Enter item 4:  3\n",
      "Enter item 5:  1\n"
     ]
    },
    {
     "name": "stdout",
     "output_type": "stream",
     "text": [
      "\n",
      "Options:\n",
      "1. Add item to list\n",
      "2. Remove item from list\n",
      "3. Sort list\n",
      "4. Print list\n",
      "5. Exit\n"
     ]
    },
    {
     "name": "stdin",
     "output_type": "stream",
     "text": [
      "Enter your choice (1-5):  3\n"
     ]
    },
    {
     "name": "stdout",
     "output_type": "stream",
     "text": [
      "List sorted successfully.\n",
      "\n",
      "Options:\n",
      "1. Add item to list\n",
      "2. Remove item from list\n",
      "3. Sort list\n",
      "4. Print list\n",
      "5. Exit\n"
     ]
    },
    {
     "name": "stdin",
     "output_type": "stream",
     "text": [
      "Enter your choice (1-5):  4\n"
     ]
    },
    {
     "name": "stdout",
     "output_type": "stream",
     "text": [
      "Current list: ['1', '1', '2', '2', '3']\n",
      "\n",
      "Options:\n",
      "1. Add item to list\n",
      "2. Remove item from list\n",
      "3. Sort list\n",
      "4. Print list\n",
      "5. Exit\n"
     ]
    },
    {
     "name": "stdin",
     "output_type": "stream",
     "text": [
      "Enter your choice (1-5):  5\n"
     ]
    },
    {
     "name": "stdout",
     "output_type": "stream",
     "text": [
      "Exiting...\n"
     ]
    }
   ],
   "source": [
    "def interact_with_list():\n",
    "    my_list = []\n",
    "    \n",
    "    # Take input for how many items to add\n",
    "    try:\n",
    "        num_items = int(input(\"How many items do you want to add to the list? \"))\n",
    "    except ValueError:\n",
    "        print(\"Invalid input. Please enter a valid number.\")\n",
    "        return\n",
    "    \n",
    "    # Loop to add items\n",
    "    for i in range(num_items):\n",
    "        item = input(f\"Enter item {i + 1}: \")\n",
    "        my_list.append(item)\n",
    "    \n",
    "    while True:\n",
    "        print(\"\\nOptions:\")\n",
    "        print(\"1. Add item to list\")\n",
    "        print(\"2. Remove item from list\")\n",
    "        print(\"3. Sort list\")\n",
    "        print(\"4. Print list\")\n",
    "        print(\"5. Exit\")\n",
    "        \n",
    "        choice = input(\"Enter your choice (1-5): \")\n",
    "        \n",
    "        if choice == '1':\n",
    "            item = input(\"Enter item to add: \")\n",
    "            my_list.append(item)\n",
    "            print(f\"Added '{item}' to the list.\")\n",
    "        \n",
    "        elif choice == '2':\n",
    "            if not my_list:\n",
    "                print(\"List is empty.\")\n",
    "            else:\n",
    "                print(\"Current list:\", my_list)\n",
    "                item = input(\"Enter item to remove: \")\n",
    "                if item in my_list:\n",
    "                    my_list.remove(item)\n",
    "                    print(f\"Removed '{item}' from the list.\")\n",
    "                else:\n",
    "                    print(f\"'{item}' not found in the list.\")\n",
    "        \n",
    "        elif choice == '3':\n",
    "            my_list.sort()\n",
    "            print(\"List sorted successfully.\")\n",
    "        \n",
    "        elif choice == '4':\n",
    "            if not my_list:\n",
    "                print(\"List is empty.\")\n",
    "            else:\n",
    "                print(\"Current list:\", my_list)\n",
    "        \n",
    "        elif choice == '5':\n",
    "            print(\"Exiting...\")\n",
    "            break\n",
    "        \n",
    "        else:\n",
    "            print(\"Invalid choice. Please enter a number from 1 to 5.\")\n",
    "\n",
    "# Test the function\n",
    "interact_with_list()\n"
   ]
  },
  {
   "cell_type": "code",
   "execution_count": null,
   "id": "95d6c877-eb23-421f-9d62-96ef765e8a38",
   "metadata": {},
   "outputs": [],
   "source": []
  }
 ],
 "metadata": {
  "kernelspec": {
   "display_name": "Python 3 (ipykernel)",
   "language": "python",
   "name": "python3"
  },
  "language_info": {
   "codemirror_mode": {
    "name": "ipython",
    "version": 3
   },
   "file_extension": ".py",
   "mimetype": "text/x-python",
   "name": "python",
   "nbconvert_exporter": "python",
   "pygments_lexer": "ipython3",
   "version": "3.11.7"
  }
 },
 "nbformat": 4,
 "nbformat_minor": 5
}
