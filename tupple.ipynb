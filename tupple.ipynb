{
 "cells": [
  {
   "cell_type": "code",
   "execution_count": 1,
   "id": "ab247de2-2185-4659-8b67-a349446fc3ca",
   "metadata": {},
   "outputs": [
    {
     "name": "stdin",
     "output_type": "stream",
     "text": [
      "How many items do you want to add to the tuple?  2\n",
      "Enter item 1:  1\n",
      "Enter item 2:  2\n"
     ]
    },
    {
     "name": "stdout",
     "output_type": "stream",
     "text": [
      "\n",
      "Options:\n",
      "1. Add item to tuple\n",
      "2. Remove item from tuple\n",
      "3. Print tuple\n",
      "4. Get item by index\n",
      "5. Find index of item\n",
      "6. Count occurrences of item\n",
      "7. Exit\n"
     ]
    },
    {
     "name": "stdin",
     "output_type": "stream",
     "text": [
      "Enter your choice (1-7):  2\n",
      "Enter item to remove:  1\n"
     ]
    },
    {
     "name": "stdout",
     "output_type": "stream",
     "text": [
      "Removed '1' from the tuple.\n",
      "\n",
      "Options:\n",
      "1. Add item to tuple\n",
      "2. Remove item from tuple\n",
      "3. Print tuple\n",
      "4. Get item by index\n",
      "5. Find index of item\n",
      "6. Count occurrences of item\n",
      "7. Exit\n"
     ]
    },
    {
     "name": "stdin",
     "output_type": "stream",
     "text": [
      "Enter your choice (1-7):  3\n"
     ]
    },
    {
     "name": "stdout",
     "output_type": "stream",
     "text": [
      "Current tuple: ('2',)\n",
      "\n",
      "Options:\n",
      "1. Add item to tuple\n",
      "2. Remove item from tuple\n",
      "3. Print tuple\n",
      "4. Get item by index\n",
      "5. Find index of item\n",
      "6. Count occurrences of item\n",
      "7. Exit\n"
     ]
    },
    {
     "name": "stdin",
     "output_type": "stream",
     "text": [
      "Enter your choice (1-7):  4\n",
      "Enter index to get item:  0\n"
     ]
    },
    {
     "name": "stdout",
     "output_type": "stream",
     "text": [
      "Item at index 0: 2\n",
      "\n",
      "Options:\n",
      "1. Add item to tuple\n",
      "2. Remove item from tuple\n",
      "3. Print tuple\n",
      "4. Get item by index\n",
      "5. Find index of item\n",
      "6. Count occurrences of item\n",
      "7. Exit\n"
     ]
    },
    {
     "name": "stdin",
     "output_type": "stream",
     "text": [
      "Enter your choice (1-7):  5\n",
      "Enter item to find index:  2\n"
     ]
    },
    {
     "name": "stdout",
     "output_type": "stream",
     "text": [
      "Index of '2': 0\n",
      "\n",
      "Options:\n",
      "1. Add item to tuple\n",
      "2. Remove item from tuple\n",
      "3. Print tuple\n",
      "4. Get item by index\n",
      "5. Find index of item\n",
      "6. Count occurrences of item\n",
      "7. Exit\n"
     ]
    },
    {
     "name": "stdin",
     "output_type": "stream",
     "text": [
      "Enter your choice (1-7):  6\n",
      "Enter item to count occurrences:  2\n"
     ]
    },
    {
     "name": "stdout",
     "output_type": "stream",
     "text": [
      "'2' occurs 1 times in the tuple.\n",
      "\n",
      "Options:\n",
      "1. Add item to tuple\n",
      "2. Remove item from tuple\n",
      "3. Print tuple\n",
      "4. Get item by index\n",
      "5. Find index of item\n",
      "6. Count occurrences of item\n",
      "7. Exit\n"
     ]
    },
    {
     "name": "stdin",
     "output_type": "stream",
     "text": [
      "Enter your choice (1-7):  7\n"
     ]
    },
    {
     "name": "stdout",
     "output_type": "stream",
     "text": [
      "Exiting...\n"
     ]
    }
   ],
   "source": [
    "def interact_with_tuple():\n",
    "    my_tuple = ()\n",
    "    \n",
    "    # Take input for how many items to add initially\n",
    "    try:\n",
    "        num_items = int(input(\"How many items do you want to add to the tuple? \"))\n",
    "    except ValueError:\n",
    "        print(\"Invalid input. Please enter a valid number.\")\n",
    "        return\n",
    "    \n",
    "    # Loop to add items\n",
    "    items = []\n",
    "    for i in range(num_items):\n",
    "        item = input(f\"Enter item {i + 1}: \")\n",
    "        items.append(item)\n",
    "    my_tuple = tuple(items)\n",
    "    \n",
    "    while True:\n",
    "        print(\"\\nOptions:\")\n",
    "        print(\"1. Add item to tuple\")\n",
    "        print(\"2. Remove item from tuple\")\n",
    "        print(\"3. Print tuple\")\n",
    "        print(\"4. Get item by index\")\n",
    "        print(\"5. Find index of item\")\n",
    "        print(\"6. Count occurrences of item\")\n",
    "        print(\"7. Exit\")\n",
    "        \n",
    "        choice = input(\"Enter your choice (1-7): \")\n",
    "        \n",
    "        if choice == '1':\n",
    "            item = input(\"Enter item to add: \")\n",
    "            my_tuple = my_tuple + (item,)\n",
    "            print(f\"Added '{item}' to the tuple.\")\n",
    "        \n",
    "        elif choice == '2':\n",
    "            item = input(\"Enter item to remove: \")\n",
    "            if item in my_tuple:\n",
    "                temp_list = list(my_tuple)\n",
    "                temp_list.remove(item)\n",
    "                my_tuple = tuple(temp_list)\n",
    "                print(f\"Removed '{item}' from the tuple.\")\n",
    "            else:\n",
    "                print(f\"'{item}' not found in the tuple.\")\n",
    "        \n",
    "        elif choice == '3':\n",
    "            print(\"Current tuple:\", my_tuple)\n",
    "        \n",
    "        elif choice == '4':\n",
    "            try:\n",
    "                index = int(input(\"Enter index to get item: \"))\n",
    "                print(f\"Item at index {index}: {my_tuple[index]}\")\n",
    "            except (ValueError, IndexError):\n",
    "                print(\"Invalid index.\")\n",
    "        \n",
    "        elif choice == '5':\n",
    "            item = input(\"Enter item to find index: \")\n",
    "            if item in my_tuple:\n",
    "                index = my_tuple.index(item)\n",
    "                print(f\"Index of '{item}': {index}\")\n",
    "            else:\n",
    "                print(f\"'{item}' not found in the tuple.\")\n",
    "        \n",
    "        elif choice == '6':\n",
    "            item = input(\"Enter item to count occurrences: \")\n",
    "            count = my_tuple.count(item)\n",
    "            print(f\"'{item}' occurs {count} times in the tuple.\")\n",
    "        \n",
    "        elif choice == '7':\n",
    "            print(\"Exiting...\")\n",
    "            break\n",
    "        \n",
    "        else:\n",
    "            print(\"Invalid choice. Please enter a number from 1 to 7.\")\n",
    "\n",
    "# Test the function\n",
    "interact_with_tuple()\n"
   ]
  },
  {
   "cell_type": "code",
   "execution_count": null,
   "id": "6efc5dc9-bf1b-4cbe-a8e4-0031b03bb4df",
   "metadata": {},
   "outputs": [],
   "source": []
  }
 ],
 "metadata": {
  "kernelspec": {
   "display_name": "Python 3 (ipykernel)",
   "language": "python",
   "name": "python3"
  },
  "language_info": {
   "codemirror_mode": {
    "name": "ipython",
    "version": 3
   },
   "file_extension": ".py",
   "mimetype": "text/x-python",
   "name": "python",
   "nbconvert_exporter": "python",
   "pygments_lexer": "ipython3",
   "version": "3.11.7"
  }
 },
 "nbformat": 4,
 "nbformat_minor": 5
}
