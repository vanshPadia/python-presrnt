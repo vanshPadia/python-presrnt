{
 "cells": [
  {
   "cell_type": "code",
   "execution_count": 3,
   "id": "4ac2a865-43ae-4b92-bec2-945ccc0badff",
   "metadata": {},
   "outputs": [
    {
     "name": "stdin",
     "output_type": "stream",
     "text": [
      "Enter the initial string:  dfgfds\n"
     ]
    },
    {
     "name": "stdout",
     "output_type": "stream",
     "text": [
      "\n",
      "Options:\n",
      "1. Add substring to string\n",
      "2. Remove substring from string\n",
      "3. Print string\n",
      "4. Get character by index\n",
      "5. Find index of substring\n",
      "6. Count occurrences of substring\n",
      "7. Get length of string\n",
      "8. Exit\n"
     ]
    },
    {
     "name": "stdin",
     "output_type": "stream",
     "text": [
      "Enter your choice (1-8):  8\n"
     ]
    },
    {
     "name": "stdout",
     "output_type": "stream",
     "text": [
      "Exiting...\n"
     ]
    }
   ],
   "source": [
    "def interact_with_string():\n",
    "    # Take input for the initial string\n",
    "    my_string = input(\"Enter the initial string: \")\n",
    "    \n",
    "    while True:\n",
    "        print(\"\\nOptions:\")\n",
    "        print(\"1. Add substring to string\")\n",
    "        print(\"2. Remove substring from string\")\n",
    "        print(\"3. Print string\")\n",
    "        print(\"4. Get character by index\")\n",
    "        print(\"5. Find index of substring\")\n",
    "        print(\"6. Count occurrences of substring\")\n",
    "        print(\"7. Get length of string\")\n",
    "        print(\"8. Exit\")\n",
    "        \n",
    "        choice = input(\"Enter your choice (1-8): \")\n",
    "        \n",
    "        if choice == '1':\n",
    "            substring = input(\"Enter substring to add: \")\n",
    "            my_string += substring\n",
    "            print(f\"Added '{substring}' to the string.\")\n",
    "        \n",
    "        elif choice == '2':\n",
    "            substring = input(\"Enter substring to remove: \")\n",
    "            if substring in my_string:\n",
    "                my_string = my_string.replace(substring, '', 1)\n",
    "                print(f\"Removed '{substring}' from the string.\")\n",
    "            else:\n",
    "                print(f\"'{substring}' not found in the string.\")\n",
    "        \n",
    "        elif choice == '3':\n",
    "            print(\"Current string:\", my_string)\n",
    "        \n",
    "        elif choice == '4':\n",
    "            try:\n",
    "                index = int(input(\"Enter index to get character: \"))\n",
    "                print(f\"Character at index {index}: {my_string[index]}\")\n",
    "            except (ValueError, IndexError):\n",
    "                print(\"Invalid index.\")\n",
    "        \n",
    "        elif choice == '5':\n",
    "            substring = input(\"Enter substring to find index: \")\n",
    "            if substring in my_string:\n",
    "                index = my_string.index(substring)\n",
    "                print(f\"Index of '{substring}': {index}\")\n",
    "            else:\n",
    "                print(f\"'{substring}' not found in the string.\")\n",
    "        \n",
    "        elif choice == '6':\n",
    "            substring = input(\"Enter substring to count occurrences: \")\n",
    "            count = my_string.count(substring)\n",
    "            print(f\"'{substring}' occurs {count} times in the string.\")\n",
    "        \n",
    "        elif choice == '7':\n",
    "            length = len(my_string)\n",
    "            print(f\"Length of the string: {length}\")\n",
    "        \n",
    "        elif choice == '8':\n",
    "            print(\"Exiting...\")\n",
    "            break\n",
    "        \n",
    "        else:\n",
    "            print(\"Invalid choice. Please enter a number from 1 to 8.\")\n",
    "\n",
    "# Test the function\n",
    "interact_with_string()\n"
   ]
  },
  {
   "cell_type": "code",
   "execution_count": null,
   "id": "d515fbda-1ea1-42cb-bca7-223cf9e6fb27",
   "metadata": {},
   "outputs": [],
   "source": []
  }
 ],
 "metadata": {
  "kernelspec": {
   "display_name": "Python 3 (ipykernel)",
   "language": "python",
   "name": "python3"
  },
  "language_info": {
   "codemirror_mode": {
    "name": "ipython",
    "version": 3
   },
   "file_extension": ".py",
   "mimetype": "text/x-python",
   "name": "python",
   "nbconvert_exporter": "python",
   "pygments_lexer": "ipython3",
   "version": "3.11.7"
  }
 },
 "nbformat": 4,
 "nbformat_minor": 5
}
